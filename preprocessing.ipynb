{
 "cells": [
  {
   "cell_type": "code",
   "execution_count": 1,
   "id": "e4e0cc2a",
   "metadata": {},
   "outputs": [],
   "source": [
    "import pandas as pd\n",
    "import numpy as np\n",
    "import matplotlib.pyplot as plt\n",
    "import os\n",
    "from sklearn.model_selection import train_test_split\n",
    "from sklearn.impute import SimpleImputer\n",
    "from sklearn.ensemble import RandomForestClassifier\n",
    "from sklearn.metrics import accuracy_score, confusion_matrix, classification_report\n",
    "from concurrent.futures import ThreadPoolExecutor\n",
    "from tqdm import tqdm"
   ]
  },
  {
   "cell_type": "code",
   "execution_count": 2,
   "id": "5b0aa12f",
   "metadata": {},
   "outputs": [],
   "source": [
    "train_df = pd.read_csv(\"child-mind-institute-problematic-internet-use/train.csv\")\n",
    "test_df = pd.read_csv(\"child-mind-institute-problematic-internet-use/test.csv\")"
   ]
  },
  {
   "cell_type": "code",
   "execution_count": 3,
   "id": "dd247f1d",
   "metadata": {},
   "outputs": [],
   "source": [
    "def process_file(filename, dirname):\n",
    "    df = pd.read_parquet(os.path.join(dirname, filename, 'part-0.parquet'))\n",
    "    df.drop('step', axis=1, inplace=True)\n",
    "    return df.describe().values.reshape(-1), filename.split('=')[1]"
   ]
  },
  {
   "cell_type": "code",
   "execution_count": 4,
   "id": "28ab11be",
   "metadata": {},
   "outputs": [],
   "source": [
    "def load_time_series(dirname) -> pd.DataFrame:\n",
    "    ids = os.listdir(dirname)\n",
    "    \n",
    "    with ThreadPoolExecutor() as executor:\n",
    "        results = list(tqdm(executor.map(lambda fname: process_file(fname, dirname), ids), total=len(ids)))\n",
    "    \n",
    "    stats, indexes = zip(*results)\n",
    "    \n",
    "    df = pd.DataFrame(stats, columns=[f\"Stat_{i}\" for i in range(len(stats[0]))])\n",
    "    df['id'] = indexes\n",
    "    \n",
    "    return df"
   ]
  },
  {
   "cell_type": "code",
   "execution_count": 5,
   "id": "7f168bce",
   "metadata": {},
   "outputs": [],
   "source": [
    "train_df = train_df.dropna(subset=['sii'])"
   ]
  },
  {
   "cell_type": "code",
   "execution_count": 6,
   "id": "484016f4",
   "metadata": {},
   "outputs": [],
   "source": [
    "PCIAT_cols = [f'PCIAT-PCIAT_{i+1:02d}' for i in range(20)]\n",
    "def IncorrectRows(row):\n",
    "    if pd.isna(row['PCIAT-PCIAT_Total']):\n",
    "        return np.nan\n",
    "    max_possible = row['PCIAT-PCIAT_Total'] + row[PCIAT_cols].isna().sum() * 5\n",
    "    if row['PCIAT-PCIAT_Total'] <= 30 and max_possible <= 30:\n",
    "        return 0\n",
    "    elif 31 <= row['PCIAT-PCIAT_Total'] <= 49 and max_possible <= 49:\n",
    "        return 1\n",
    "    elif 50 <= row['PCIAT-PCIAT_Total'] <= 79 and max_possible <= 79:\n",
    "        return 2\n",
    "    elif row['PCIAT-PCIAT_Total'] >= 80 and max_possible >= 80:\n",
    "        return 3\n",
    "    return np.nan\n",
    "\n",
    "train_df['recal_sii'] = train_df.apply(IncorrectRows, axis=1)"
   ]
  },
  {
   "cell_type": "code",
   "execution_count": 7,
   "id": "a0858571",
   "metadata": {},
   "outputs": [],
   "source": [
    "mismatch_rows = train_df[\n",
    "    (train_df['recal_sii'] != train_df['sii']) & train_df['sii'].notna()\n",
    "]\n",
    "mismatch_indexes = mismatch_rows.index\n",
    "train_df = train_df.drop(mismatch_indexes)\n",
    "train_df = train_df.drop(['recal_sii'], axis=1)"
   ]
  },
  {
   "cell_type": "code",
   "execution_count": 8,
   "id": "bc52dc24",
   "metadata": {},
   "outputs": [],
   "source": [
    "SEASON_COLS = [\n",
    "    \"Basic_Demos-Enroll_Season\", \n",
    "    \"CGAS-Season\", \n",
    "    \"Physical-Season\", \n",
    "    \"Fitness_Endurance-Season\", \n",
    "    \"FGC-Season\", \n",
    "    \"BIA-Season\", \n",
    "    \"PAQ_A-Season\", \n",
    "    \"PAQ_C-Season\", \n",
    "    \"SDS-Season\",\n",
    "    \"PreInt_EduHx-Season\", \n",
    "    ]\n",
    "def update(df):\n",
    "    for c in SEASON_COLS: \n",
    "        df[c] = df[c].fillna('Missing')\n",
    "        df[c] = df[c].astype('category')\n",
    "    return df\n",
    "train_df = update(train_df)\n",
    "test_df = update(test_df)\n",
    "season_mapping = {'Spring': 0, 'Summer': 1, 'Fall': 2, 'Winter': 3, 'Missing': 4}\n",
    "for col in SEASON_COLS:\n",
    "    train_df[col] = train_df[col].map(season_mapping)\n",
    "    test_df[col] = test_df[col].map(season_mapping)\n",
    "train_df['PCIAT-Season'] = train_df['PCIAT-Season'].map(season_mapping)"
   ]
  },
  {
   "cell_type": "code",
   "execution_count": 9,
   "id": "05c95e2d",
   "metadata": {},
   "outputs": [],
   "source": [
    "train_id = train_df['id']\n",
    "test_id = test_df['id']\n",
    "train_features = train_df.drop(columns=['id'])\n",
    "test_features = test_df.drop(columns=['id'])\n",
    "\n",
    "imputer = SimpleImputer(strategy='median')\n",
    "train_features_imputed = pd.DataFrame(imputer.fit_transform(train_features), columns=train_features.columns, index=train_features.index)\n",
    "test_features_imputed = pd.DataFrame(imputer.fit_transform(test_features), columns=test_features.columns, index=test_features.index)\n",
    "\n",
    "train_df = pd.concat([train_id, train_features_imputed], axis=1)\n",
    "test_df = pd.concat([test_id, test_features_imputed], axis=1)\n"
   ]
  },
  {
   "cell_type": "code",
   "execution_count": 10,
   "id": "92c6b1e7",
   "metadata": {},
   "outputs": [],
   "source": [
    "train_cor = train_df.drop('id', axis=1)\n",
    "test_cor = test_df.drop('id', axis=1)"
   ]
  },
  {
   "cell_type": "code",
   "execution_count": 31,
   "id": "f4ab2aab",
   "metadata": {},
   "outputs": [
    {
     "name": "stdout",
     "output_type": "stream",
     "text": [
      "Basic_Demos-Sex               -0.093859\n",
      "Physical-Diastolic_BP          0.066375\n",
      "Physical-HeartRate            -0.036218\n",
      "PAQ_A-PAQ_A_Total              0.017195\n",
      "PAQ_C-PAQ_C_Total             -0.010182\n",
      "Fitness_Endurance-Max_Stage   -0.020328\n",
      "Fitness_Endurance-Time_Mins   -0.038361\n",
      "Fitness_Endurance-Time_Sec     0.001803\n",
      "FGC-FGC_SRL                   -0.073635\n",
      "FGC-FGC_SRR                   -0.064201\n",
      "BIA-BIA_Activity_Level_num     0.075701\n",
      "BIA-BIA_BMC                   -0.007866\n",
      "BIA-BIA_BMR                    0.028759\n",
      "BIA-BIA_DEE                    0.041863\n",
      "BIA-BIA_ECW                    0.027471\n",
      "BIA-BIA_FFM                    0.028759\n",
      "BIA-BIA_FFMI                   0.085931\n",
      "BIA-BIA_FMI                    0.066721\n",
      "BIA-BIA_Fat                    0.031160\n",
      "BIA-BIA_ICW                    0.041262\n",
      "BIA-BIA_LDM                    0.019960\n",
      "BIA-BIA_LST                    0.059465\n",
      "BIA-BIA_SMM                    0.041318\n",
      "BIA-BIA_TBW                    0.033537\n",
      "Name: PCIAT-PCIAT_Total, dtype: float64\n"
     ]
    }
   ],
   "source": [
    "corr_matrix = train_cor[['PCIAT-PCIAT_Total', 'Basic_Demos-Age', 'Basic_Demos-Sex', 'Physical-BMI', \n",
    "                        'Physical-Height', 'Physical-Weight', 'Physical-Waist_Circumference',\n",
    "                        'Physical-Diastolic_BP', 'Physical-Systolic_BP', 'Physical-HeartRate',\n",
    "                        'PreInt_EduHx-computerinternet_hoursday', 'SDS-SDS_Total_T', 'PAQ_A-PAQ_A_Total',\n",
    "                        'PAQ_C-PAQ_C_Total', 'Fitness_Endurance-Max_Stage', 'Fitness_Endurance-Time_Mins', \n",
    "                        'Fitness_Endurance-Time_Sec', 'FGC-FGC_CU', 'FGC-FGC_GSND', 'FGC-FGC_GSD', \n",
    "                        'FGC-FGC_PU', 'FGC-FGC_SRL', 'FGC-FGC_SRR', 'FGC-FGC_TL', 'BIA-BIA_Activity_Level_num', \n",
    "                        'BIA-BIA_BMC', 'BIA-BIA_BMI', 'BIA-BIA_BMR', 'BIA-BIA_DEE', 'BIA-BIA_ECW', 'BIA-BIA_FFM',\n",
    "                        'BIA-BIA_FFMI', 'BIA-BIA_FMI', 'BIA-BIA_Fat', 'BIA-BIA_Frame_num', 'BIA-BIA_ICW', \n",
    "                        'BIA-BIA_LDM', 'BIA-BIA_LST', 'BIA-BIA_SMM', 'BIA-BIA_TBW']].corr()\n",
    "sii_corr = corr_matrix['PCIAT-PCIAT_Total'].drop('PCIAT-PCIAT_Total')\n",
    "filtered_corr = sii_corr[(sii_corr > 0.1) | (sii_corr < -0.1)]\n",
    "other_corr = sii_corr[(sii_corr <= 0.1) & (sii_corr >= -0.1)]\n",
    "other_corr_columns = other_corr.index.tolist()\n",
    "print(other_corr)\n",
    "# 從train_cor中刪除這些列\n",
    "#train_cor_filtered = train_df.drop(columns=other_corr_columns)"
   ]
  },
  {
   "cell_type": "code",
   "execution_count": 60,
   "id": "0fb0b9e1",
   "metadata": {},
   "outputs": [
    {
     "data": {
      "image/png": "[encoded data removed]",
      "text/plain": [
       "<Figure size 800x600 with 1 Axes>"
      ]
     },
     "metadata": {},
     "output_type": "display_data"
    }
   ],
   "source": [
    "plt.figure(figsize=(8, 6))\n",
    "filtered_corr.sort_values().plot(kind='barh', color='coral')\n",
    "plt.title('Features with Correlation > 0.1 or < -0.1 with PCIAT-PCIAT_Total')\n",
    "plt.xlabel('Correlation coefficient')\n",
    "plt.ylabel('Features')\n",
    "plt.show()"
   ]
  },
  {
   "cell_type": "code",
   "execution_count": 32,
   "id": "68ee6785",
   "metadata": {},
   "outputs": [],
   "source": [
    "train_df = train_df.drop(columns=other_corr_columns)\n",
    "test_df = test_df.drop(columns=other_corr_columns)"
   ]
  },
  {
   "cell_type": "code",
   "execution_count": 33,
   "id": "b652c300",
   "metadata": {},
   "outputs": [
    {
     "name": "stderr",
     "output_type": "stream",
     "text": [
      "100%|██████████| 996/996 [01:44<00:00,  9.53it/s]\n",
      "100%|██████████| 2/2 [00:00<00:00,  8.00it/s]\n"
     ]
    }
   ],
   "source": [
    "train_ts = load_time_series(\"child-mind-institute-problematic-internet-use/series_train.parquet\")\n",
    "test_ts = load_time_series(\"child-mind-institute-problematic-internet-use/series_test.parquet\")"
   ]
  },
  {
   "cell_type": "code",
   "execution_count": 34,
   "id": "c8676ea4",
   "metadata": {},
   "outputs": [],
   "source": [
    "TARGET_COLS = [\n",
    "    \"PCIAT-Season\",\n",
    "    \"PCIAT-PCIAT_01\",\n",
    "    \"PCIAT-PCIAT_02\",\n",
    "    \"PCIAT-PCIAT_03\",\n",
    "    \"PCIAT-PCIAT_04\",\n",
    "    \"PCIAT-PCIAT_05\",\n",
    "    \"PCIAT-PCIAT_06\",\n",
    "    \"PCIAT-PCIAT_07\",\n",
    "    \"PCIAT-PCIAT_08\",\n",
    "    \"PCIAT-PCIAT_09\",\n",
    "    \"PCIAT-PCIAT_10\",\n",
    "    \"PCIAT-PCIAT_11\",\n",
    "    \"PCIAT-PCIAT_12\",\n",
    "    \"PCIAT-PCIAT_13\",\n",
    "    \"PCIAT-PCIAT_14\",\n",
    "    \"PCIAT-PCIAT_15\",\n",
    "    \"PCIAT-PCIAT_16\",    \n",
    "    \"PCIAT-PCIAT_17\",\n",
    "    \"PCIAT-PCIAT_18\",\n",
    "    \"PCIAT-PCIAT_19\",\n",
    "    \"PCIAT-PCIAT_20\",\n",
    "    \"PCIAT-PCIAT_Total\"\n",
    "]\n",
    "train_df = train_df.drop(TARGET_COLS,axis=1)"
   ]
  },
  {
   "cell_type": "code",
   "execution_count": 37,
   "id": "71707ed9",
   "metadata": {},
   "outputs": [],
   "source": [
    "train_df = pd.merge(train_df, train_ts, how=\"left\", on='id')\n",
    "test_df = pd.merge(test_df, test_ts, how=\"left\", on='id')"
   ]
  },
  {
   "cell_type": "code",
   "execution_count": 38,
   "id": "e2c466b0",
   "metadata": {},
   "outputs": [],
   "source": [
    "train_df = train_df.drop('id', axis=1)\n",
    "test_df = test_df.drop('id', axis=1)"
   ]
  },
  {
   "cell_type": "code",
   "execution_count": 39,
   "id": "d0fc2e57",
   "metadata": {},
   "outputs": [
    {
     "name": "stdout",
     "output_type": "stream",
     "text": [
      "Train Shape : (2719, 131) || Test Shape : (20, 130)\n"
     ]
    }
   ],
   "source": [
    "print(f'Train Shape : {train_df.shape} || Test Shape : {test_df.shape}')"
   ]
  },
  {
   "cell_type": "code",
   "execution_count": 41,
   "id": "a6aa61e8",
   "metadata": {},
   "outputs": [],
   "source": [
    "train_df = train_df.fillna(0)\n",
    "test_df = test_df.fillna(0)"
   ]
  },
  {
   "cell_type": "code",
   "execution_count": 42,
   "id": "ac081d5c",
   "metadata": {},
   "outputs": [],
   "source": [
    "X_train = train_df.drop(columns=['sii'])\n",
    "y_train = train_df['sii'] \n",
    "X_test = test_df\n",
    "\n",
    "model = RandomForestClassifier(random_state=0)\n",
    "model.fit(X_train, y_train)\n",
    "\n",
    "test_df['sii'] = model.predict(X_test)"
   ]
  },
  {
   "cell_type": "code",
   "execution_count": 43,
   "id": "f77e9cff",
   "metadata": {},
   "outputs": [],
   "source": [
    "submit_df = pd.concat([test_id, test_df['sii']], axis=1)\n",
    "submit_df['sii'] = submit_df['sii'].astype(int)"
   ]
  },
  {
   "cell_type": "code",
   "execution_count": 44,
   "id": "fb35c244",
   "metadata": {},
   "outputs": [
    {
     "data": {
      "text/html": [
       "<div>\n",
       "<style scoped>\n",
       "    .dataframe tbody tr th:only-of-type {\n",
       "        vertical-align: middle;\n",
       "    }\n",
       "\n",
       "    .dataframe tbody tr th {\n",
       "        vertical-align: top;\n",
       "    }\n",
       "\n",
       "    .dataframe thead th {\n",
       "        text-align: right;\n",
       "    }\n",
       "</style>\n",
       "<table border=\"1\" class=\"dataframe\">\n",
       "  <thead>\n",
       "    <tr style=\"text-align: right;\">\n",
       "      <th></th>\n",
       "      <th>id</th>\n",
       "      <th>sii</th>\n",
       "    </tr>\n",
       "  </thead>\n",
       "  <tbody>\n",
       "    <tr>\n",
       "      <th>0</th>\n",
       "      <td>00008ff9</td>\n",
       "      <td>0</td>\n",
       "    </tr>\n",
       "    <tr>\n",
       "      <th>1</th>\n",
       "      <td>000fd460</td>\n",
       "      <td>0</td>\n",
       "    </tr>\n",
       "    <tr>\n",
       "      <th>2</th>\n",
       "      <td>00105258</td>\n",
       "      <td>0</td>\n",
       "    </tr>\n",
       "    <tr>\n",
       "      <th>3</th>\n",
       "      <td>00115b9f</td>\n",
       "      <td>1</td>\n",
       "    </tr>\n",
       "    <tr>\n",
       "      <th>4</th>\n",
       "      <td>0016bb22</td>\n",
       "      <td>0</td>\n",
       "    </tr>\n",
       "    <tr>\n",
       "      <th>5</th>\n",
       "      <td>001f3379</td>\n",
       "      <td>1</td>\n",
       "    </tr>\n",
       "    <tr>\n",
       "      <th>6</th>\n",
       "      <td>0038ba98</td>\n",
       "      <td>0</td>\n",
       "    </tr>\n",
       "    <tr>\n",
       "      <th>7</th>\n",
       "      <td>0068a485</td>\n",
       "      <td>0</td>\n",
       "    </tr>\n",
       "    <tr>\n",
       "      <th>8</th>\n",
       "      <td>0069fbed</td>\n",
       "      <td>0</td>\n",
       "    </tr>\n",
       "    <tr>\n",
       "      <th>9</th>\n",
       "      <td>0083e397</td>\n",
       "      <td>0</td>\n",
       "    </tr>\n",
       "    <tr>\n",
       "      <th>10</th>\n",
       "      <td>0087dd65</td>\n",
       "      <td>0</td>\n",
       "    </tr>\n",
       "    <tr>\n",
       "      <th>11</th>\n",
       "      <td>00abe655</td>\n",
       "      <td>0</td>\n",
       "    </tr>\n",
       "    <tr>\n",
       "      <th>12</th>\n",
       "      <td>00ae59c9</td>\n",
       "      <td>1</td>\n",
       "    </tr>\n",
       "    <tr>\n",
       "      <th>13</th>\n",
       "      <td>00af6387</td>\n",
       "      <td>1</td>\n",
       "    </tr>\n",
       "    <tr>\n",
       "      <th>14</th>\n",
       "      <td>00bd4359</td>\n",
       "      <td>0</td>\n",
       "    </tr>\n",
       "    <tr>\n",
       "      <th>15</th>\n",
       "      <td>00c0cd71</td>\n",
       "      <td>2</td>\n",
       "    </tr>\n",
       "    <tr>\n",
       "      <th>16</th>\n",
       "      <td>00d56d4b</td>\n",
       "      <td>0</td>\n",
       "    </tr>\n",
       "    <tr>\n",
       "      <th>17</th>\n",
       "      <td>00d9913d</td>\n",
       "      <td>0</td>\n",
       "    </tr>\n",
       "    <tr>\n",
       "      <th>18</th>\n",
       "      <td>00e6167c</td>\n",
       "      <td>0</td>\n",
       "    </tr>\n",
       "    <tr>\n",
       "      <th>19</th>\n",
       "      <td>00ebc35d</td>\n",
       "      <td>0</td>\n",
       "    </tr>\n",
       "  </tbody>\n",
       "</table>\n",
       "</div>"
      ],
      "text/plain": [
       "          id  sii\n",
       "0   00008ff9    0\n",
       "1   000fd460    0\n",
       "2   00105258    0\n",
       "3   00115b9f    1\n",
       "4   0016bb22    0\n",
       "5   001f3379    1\n",
       "6   0038ba98    0\n",
       "7   0068a485    0\n",
       "8   0069fbed    0\n",
       "9   0083e397    0\n",
       "10  0087dd65    0\n",
       "11  00abe655    0\n",
       "12  00ae59c9    1\n",
       "13  00af6387    1\n",
       "14  00bd4359    0\n",
       "15  00c0cd71    2\n",
       "16  00d56d4b    0\n",
       "17  00d9913d    0\n",
       "18  00e6167c    0\n",
       "19  00ebc35d    0"
      ]
     },
     "execution_count": 44,
     "metadata": {},
     "output_type": "execute_result"
    }
   ],
   "source": [
    "submit_df"
   ]
  },
  {
   "cell_type": "code",
   "execution_count": 45,
   "id": "57edb940",
   "metadata": {},
   "outputs": [],
   "source": [
    "submit_df.to_csv('submission.csv', index=False)"
   ]
  }
 ],
 "metadata": {
  "kernelspec": {
   "display_name": "base",
   "language": "python",
   "name": "python3"
  },
  "language_info": {
   "codemirror_mode": {
    "name": "ipython",
    "version": 3
   },
   "file_extension": ".py",
   "mimetype": "text/x-python",
   "name": "python",
   "nbconvert_exporter": "python",
   "pygments_lexer": "ipython3",
   "version": "3.12.4"
  }
 },
 "nbformat": 4,
 "nbformat_minor": 5
}
